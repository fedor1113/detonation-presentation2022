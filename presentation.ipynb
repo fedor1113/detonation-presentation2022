{
 "cells": [
  {
   "cell_type": "code",
   "execution_count": 3,
   "id": "a7cfae67",
   "metadata": {
    "slideshow": {
     "slide_type": "skip"
    },
    "tags": []
   },
   "outputs": [],
   "source": [
    "import math\n",
    "\n",
    "import matplotlib.pyplot as plt\n",
    "import scipy.optimize as sopt\n",
    "import numpy as np\n",
    "import pandas as pd"
   ]
  },
  {
   "cell_type": "code",
   "execution_count": 2,
   "id": "103d88ec",
   "metadata": {
    "slideshow": {
     "slide_type": "skip"
    },
    "tags": []
   },
   "outputs": [],
   "source": [
    "path_to_data = 'data/adv/TDRK/'"
   ]
  },
  {
   "cell_type": "code",
   "execution_count": 3,
   "id": "ac56c2b1",
   "metadata": {
    "slideshow": {
     "slide_type": "skip"
    },
    "tags": []
   },
   "outputs": [],
   "source": [
    "import sympy as sp\n",
    "x, τ, u, u_s, A, ω, α, β, x_lab = sp.symbols(\"x, τ, u, u_s, A, ω, α, β, x_lab\")\n",
    "sp.init_printing()"
   ]
  },
  {
   "cell_type": "code",
   "execution_count": 2,
   "id": "416c6673",
   "metadata": {
    "slideshow": {
     "slide_type": "skip"
    },
    "tags": []
   },
   "outputs": [
    {
     "name": "stderr",
     "output_type": "stream",
     "text": [
      "UsageError: Line magic function `%texify` not found.\n"
     ]
    }
   ],
   "source": [
    "%texify"
   ]
  },
  {
   "cell_type": "markdown",
   "id": "4dd0864a",
   "metadata": {
    "slideshow": {
     "slide_type": "slide"
    },
    "tags": []
   },
   "source": [
    "<img src=\"skoltech_logo.jpg\" style=\"display: block; position: absolute; top: 25px; right: 0;  width: 15%;\" />\n",
    "<img src=\"mephi_logo.png\" style=\"display: block; position: absolute; top: -25px; left: 0; width: 15%;\" />\n",
    "\n",
    "<img src=\"logo.jpg\" style=\"float: left; display: block; width: 18%; padding: 5px;\" />\n",
    "\n",
    "\n",
    "# Численное моделирование регуляризации колебаний детонационных волн\n",
    "---\n",
    "*Белолуцкий Фёдор Алексеевич, студент НИЯУ МИФИ, исследователь ИАП РАН*\n",
    "\n",
    "\n",
    "*Научный руководитель: Касимов Аслан Рамазанович, Ph.D., доцент Сколтеха*\n",
    "\n",
    "<!--<style>*{text-align: justify;}</style>-->"
   ]
  },
  {
   "cell_type": "markdown",
   "id": "4126a2fa-8e6d-432d-ad9f-ddb38c7c893c",
   "metadata": {
    "slideshow": {
     "slide_type": "slide"
    },
    "tags": []
   },
   "source": [
    "## Реактивное уравнение Бюргерса\n",
    "\n",
    "\n",
    "\n",
    "Для случая неоднородных граничных условий в СО детонационной волны *(Касимов и Гончар, 2020)*:\n",
    "\n",
    "$$ \\forall x \\leqslant 0 \\quad \\forall t > 0 \\quad \n",
    "\\boxed{\\partial_{t}u\\left(x,t\\right)+\\partial_{x}F\\left[u\\left(x,t\\right),u\\left(x=x_{s},t\\right)\\right]=S_{\\text{KFR}}\\left[x;u\\left(x=x_{s},t\\right)\\right]},\n",
    "$$\n",
    "где поток имеет вид $ \\frac{1}{2}\\left(u\\left(x,t\\right)\\right)^2 - D_s u\\left(x,t\\right) $,\n",
    "\n",
    "источниковый член определяется функцией (с параметрами $ \\alpha \\geqslant 0 $, $ \\beta > 0 $, $ k > 0 $)"
   ]
  },
  {
   "cell_type": "markdown",
   "id": "7e90b477-6ad8-414d-911b-990499aa2617",
   "metadata": {},
   "source": [
    "$$ \\left(x,t\\right) \\stackrel{S_\\text{KFR}[\\dots]}{\\mapsto} \\frac{q}{2} \\cdot \\frac{1}{\\sqrt{2\\pi}\\sqrt{2\\beta}}\\exp\\left(-\\frac{1}{2}\\cdot\\frac{\\left(x-\\xi_{s}\\left[u\\left(x_{s},t\\right)\\right]\\right)^{2}}{\\left(\\sqrt{2\\beta}\\right)^{2}}\\right), $$\n",
    "\n",
    "$$\\qquad t\\mapsto\\xi_{s}\\left[u\\left(x_{s},t\\right)\\right]\\stackrel{\\text{def}}{:=}t\\mapsto-k\\left(\\frac{u_{0}\\left(x_{s}\\right)}{u\\left(x_{s},t\\right)}\\right)^{\\alpha}.$$"
   ]
  },
  {
   "cell_type": "markdown",
   "id": "f86b9fee-f1fe-4a9b-871e-03f40c8f0648",
   "metadata": {},
   "source": [
    "Скорость распространения детонационной волны: $ D_s \\equiv \\frac{dx_s}{dt} = \\frac{1}{2}\\left(u\\left(x_s, t\\right)+u\\left(x_a, t\\right)\\right). $\n",
    "\n",
    "А стационарное решение $ u_0 $: <!-- x\\stackrel{}{\\mapsto}\\frac{u_{0}\\left(x_{s}\\right)+u_{0}\\left(x_{a}\\right)}{2} -->\n",
    "$$ u_{0}\\stackrel{\\text{def}}{:=} D_s + \\sqrt{2\\int_{-\\infty}^{x}S_{\\text{KFR}}\\left[y,u_{0}\\left(x_{s}\\right)\\right]dy} $$"
   ]
  },
  {
   "cell_type": "markdown",
   "id": "f780eb46-f327-4c7c-b888-5d35cb207e7c",
   "metadata": {
    "slideshow": {
     "slide_type": "fragment"
    },
    "tags": []
   },
   "source": [
    "$$ u_{0}\\left(x_{s}\\right)=u_{0}\\left(x_{a}\\right)+2\\sqrt{2\\int_{-\\infty}^{0}S_{\\text{KFR}}\\left[y,u_{0}\\left(x_{s}\\right)\\right]dy} $$"
   ]
  },
  {
   "cell_type": "markdown",
   "id": "bc8ef943-86df-426f-9e60-6c1007670491",
   "metadata": {
    "slideshow": {
     "slide_type": "subslide"
    },
    "tags": []
   },
   "source": [
    "<figure style=\"text-align: center;\"><img style=\"text-align: center; margin: 0 auto;\" src=\"profile_sketch.svg\" alt=\"Wave in a non-uniform medium solution profile sketch\"/>\n",
    "    <figcaption style=\"text-align: center; margin: 0 auto; \">Рис. 1: Схема решения для случая неоднородной гармонически меняющейся среды перед детонационной волной</figcaption>\n",
    "</figure>"
   ]
  },
  {
   "cell_type": "markdown",
   "id": "fcd7feec",
   "metadata": {
    "slideshow": {
     "slide_type": "subslide"
    },
    "tags": []
   },
   "source": [
    "## Слабо нелинейная детонация в невязком пределе и попытки её упрощённого описания\n",
    "\n",
    "<p style=\"text-align: justify;\">Интерес представляют более ранние попытки Уилдона Фикетта и Эндрю Майды получить простую модель, описывающую одномерные детонации, и последующие попытки Р. Розалеса и Э. Майды вывести подобное уравнение, но уже не просто некоторым феноменологическим *ad hoc* путём, а асимптотическим приближением к уравнениям Эйлера в слабо нелинейном пределе (1983).</p>\n",
    "$$ \\partial_t u + \\frac{1}{2} \\partial_x \\left[ u^2 +q\\lambda \\right] =  0,\\; \\partial_t \\lambda = \\omega \\left(\\lambda, u\\right) \\qquad \\rightarrow \\qquad \\partial_\\tau u + \\frac{1}{2} \\partial_\\xi u^2 = q \\partial_\\xi \\lambda,\\; \\partial_\\xi \\lambda = \\omega \\left(\\lambda, u\\right) $$\n",
    "\n",
    "<div style=\"text-align: center; margin: 0 auto;\">Разделение масштабов в слабо нелинейном пределе</div>\n",
    "<div style=\"text-align: center; margin: 0 auto;\">(поток до ударной волны почти звуковой в сравнении с ней)</div>"
   ]
  },
  {
   "cell_type": "markdown",
   "id": "7a25826b-9f7b-44cf-bca0-1ede75f1cb69",
   "metadata": {
    "slideshow": {
     "slide_type": "slide"
    },
    "tags": []
   },
   "source": [
    "## Обезразмеренная версия реактивного уравнения Бюргерса"
   ]
  },
  {
   "cell_type": "markdown",
   "id": "ff3908ec-e131-4ee3-a302-8a00fc62b070",
   "metadata": {},
   "source": [
    "Обозначим: $ \\nu_s \\stackrel{\\text{def}}{:=} \\left[u_0(0)\\right] = (u_0(x_s)-u_0(x_a))$. Перенормировки: $u_* \\stackrel{\\text{def}}{:=} \\frac{u}{\\nu_s}$, $L_* \\stackrel{\\text{def}}{:=} \\frac{L}{k}$, $t_* \\stackrel{\\text{def}}{:=} \\frac{t}{k/\\nu_s} $.\n",
    "\n",
    "Введём параметр $A$: $u_{a*} = A u_{0*}\\left(x_{s*}\\right)$.\n",
    "\n",
    "\n",
    "Стационарное решение:\n",
    "$$ u_{0*}(x_*) = \\frac{ A }{ 1 - A } + \\frac{1}{2} \\left( 1 + \\sqrt{\\frac{1+\\text{erf}\\frac{x_*+1}{2\\sqrt{\\beta}}}{1+\\text{erf}\\frac{1}{2\\sqrt{\\beta}}}} \\right). $$\n",
    "\n",
    "\n",
    "Источниковый член для реактивного уравнения Бюргерса:\n",
    "$$ S_{*}\\left[x_*, u_{*}\\left(x_{s*}, t_*\\right)\\right] = \\left( 4  \\sqrt{2\\pi} \\sqrt{2\\beta_*} \\left( 1+\\text{erf}\\left(\\frac{1}{\\sqrt{4\\beta_*}}\\right) \\right) \\right)^{-1} \\exp \\left({ - \\frac{1}{2} \\frac{\\left( x_* - \\xi_{s*} \\right)^2}{\\left( \\sqrt{2\\beta_*} \\right)^2} }\\right). $$"
   ]
  },
  {
   "cell_type": "markdown",
   "id": "a3a48bc4",
   "metadata": {
    "slideshow": {
     "slide_type": "slide"
    },
    "tags": []
   },
   "source": [
    "## Методы численного решения гиперболических законов сохранения\n",
    "<figure><img src=\"hyper_pde_solution1.png\" alt=\"DOI 10.1007/s10915-013-9787-8\"/>\n",
    "    <figcaption style=\"text-align: center; margin: 0 auto; \">Рис. 2: позаимствован из <a href=\"https://link.springer.com/article/10.1007/s10915-013-9787-8\">DOI 10.1007/s10915-013-9787-8</a></figcaption>\n",
    "</figure>"
   ]
  },
  {
   "cell_type": "markdown",
   "id": "45ec7880-df47-4914-a921-087b9b6787d6",
   "metadata": {
    "slideshow": {
     "slide_type": "subslide"
    },
    "tags": []
   },
   "source": [
    "<figure style=\"text-align: center;\"><img style=\"text-align: center; margin: 0 auto;\" src=\"scheme.svg\" alt=\"Wave in a non-uniform medium solution numerical scheme\"/>\n",
    "    <figcaption style=\"text-align: center; margin: 0 auto; \">Рис. 3 Схема профиля численного решения для случая неоднородной гармонически меняющейся среды перед детонационной волной</figcaption>\n",
    "</figure>"
   ]
  },
  {
   "cell_type": "markdown",
   "id": "fb594dff",
   "metadata": {
    "slideshow": {
     "slide_type": "subslide"
    },
    "tags": []
   },
   "source": [
    "Рассмотрим, имеет ли смысл использовать методы с процедурами типа Коши-Ковалевской для решения реактивного уравнения Бюргерса.\n",
    "$$ \\partial_{t}^{2}u\\left(x,t\\right)+\\partial_{t}\\partial_{x}F\\left[u\\left(x,t\\right),u\\left(x=x_{s},t\\right)\\right]=\\partial_{t}S_{\\text{KFR}}\\left[x;u\\left(x=x_{s},t\\right)\\right] $$\n",
    "$$ \\partial_{t}^{2}u\\left(x,t\\right)=-\\partial_{t}\\partial_{x}F\\left[u\\left(x,t\\right),u\\left(x=x_{s},t\\right)\\right]+\\partial_{t}S_{\\text{KFR}}\\left[x;u\\left(x=x_{s},t\\right)\\right] $$\n",
    "$$ \\partial_{t}^{2}u\\left(x,t\\right)=L_{h}\\left[\\partial_{u}F\\left[u,u_{s}\\right]\\right]L_{h}\\left[u\\right]+L_{h}\\left[\\partial_{u_{s}}F\\left[u_{s},u_{s}\\right]\\right]L_{h}\\left[u_{s}\\right]+\\partial_{x_{s}}S_{\\text{KFR}}\\left[x;u\\left(x=x_{s},t\\right)\\right]\\frac{dx_{s}}{dt} + O\\left(\\Delta x^5\\right) $$\n",
    "$$ \\partial_{t}^{2}u\\left(x,t\\right)=L_{h}\\left[\\partial_{u}F\\left[u,u_{s}\\right]\\right]L_{h}\\left[u\\right]+L_{h}\\left[\\partial_{u_{s}}F\\left[u_{s},u_{s}\\right]\\right]L_{h}\\left[u_{s}\\right]+\\partial_{x_{s}}S_{\\text{KFR}}\\left[x;u\\left(x=x_{s},t\\right)\\right]D_s + O\\left(\\Delta x^5\\right) $$\n",
    "$$ \\partial_{t}^{3}u = ⋯ $$"
   ]
  },
  {
   "cell_type": "code",
   "execution_count": 32,
   "id": "5749e895",
   "metadata": {
    "slideshow": {
     "slide_type": "subslide"
    },
    "tags": []
   },
   "outputs": [
    {
     "data": {
      "image/png": "[encoded data removed]",
      "text/latex": [
       "$\\displaystyle \\frac{0.0625 α \\left(u_{s} \\left(1.0 - A\\right)\\right)^{- α} \\left(\\left(u_{s} \\left(1.0 - A\\right)\\right)^{- α} \\left(x \\left(u_{s} \\left(1.0 - A\\right)\\right)^{α} + 1\\right)\\right)^{1.0} e^{- \\frac{0.25 \\left(\\left(u_{s} \\left(1.0 - A\\right)\\right)^{- α} \\left(x \\left(u_{s} \\left(1.0 - A\\right)\\right)^{α} + 1\\right)\\right)^{2.0}}{β}}}{\\sqrt{\\pi} u_{s} β^{\\frac{3}{2}} \\left(\\operatorname{erf}{\\left(\\frac{0.5}{\\sqrt{β}} \\right)} + 1\\right)}$"
      ],
      "text/plain": [
       "                                                                                  \n",
       "                                                                               ⎛  \n",
       "                                                                         -0.25⋅⎝(u\n",
       "                                                                    1.0  ─────────\n",
       "                       -α ⎛              -α ⎛                α    ⎞⎞              \n",
       "0.0625⋅α⋅(uₛ⋅(1.0 - A))  ⋅⎝(uₛ⋅(1.0 - A))  ⋅⎝x⋅(uₛ⋅(1.0 - A))  + 1⎠⎠   ⋅ℯ         \n",
       "──────────────────────────────────────────────────────────────────────────────────\n",
       "                                                         3/2 ⎛   ⎛0.5⎞    ⎞       \n",
       "                                                  √π⋅uₛ⋅β   ⋅⎜erf⎜───⎟ + 1⎟       \n",
       "                                                             ⎝   ⎝ √β⎠    ⎠       \n",
       "\n",
       "                                       2.0 \n",
       "            -α ⎛                α    ⎞⎞    \n",
       "ₛ⋅(1.0 - A))  ⋅⎝x⋅(uₛ⋅(1.0 - A))  + 1⎠⎠    \n",
       "───────────────────────────────────────────\n",
       "                β                          \n",
       "                                           \n",
       "───────────────────────────────────────────\n",
       "                                           \n",
       "                                           \n",
       "                                           "
      ]
     },
     "execution_count": 32,
     "metadata": {},
     "output_type": "execute_result"
    }
   ],
   "source": [
    "sp.simplify(sp.diff(S, u_s))"
   ]
  },
  {
   "cell_type": "markdown",
   "id": "e0534b27-ed5f-4a6b-a681-b4e85a7d56d5",
   "metadata": {
    "slideshow": {
     "slide_type": "slide"
    },
    "tags": []
   },
   "source": [
    "## Результаты моделирования динамики детонации с использванием уравнения Бюргерса"
   ]
  },
  {
   "cell_type": "markdown",
   "id": "89820626",
   "metadata": {
    "slideshow": {
     "slide_type": "slide"
    },
    "tags": []
   },
   "source": [
    "## Результаты с WENO5-JS и WENO5-M для уравнений Эйлера\n",
    "<figure><img style=\"text-align: center; margin: 0 auto; width:50%;\" src=\"aim_ad_astra.png\" />\n",
    "    <figcaption style=\"text-align: center; margin: 0 auto; \">Рис. 4: Языки Арнольда, полученные для уравнений Эйлера</figcaption></figure>"
   ]
  },
  {
   "cell_type": "markdown",
   "id": "9e6fc1b4",
   "metadata": {
    "slideshow": {
     "slide_type": "subslide"
    },
    "tags": []
   },
   "source": [
    "## Конечные цели исследования и текущий результат (\"нулевое приближение\")\n",
    "<figure style=\"text-align: center; margin: 0 auto;\"><img src=\"zeroth_approx.png\" style=\"text-align: center; margin: 0 auto; width: 50%;\" />\n",
    "    <figcaption style=\"text-align: center; margin: 0 auto; \">Рис. 5: 3120 точек в пространстве параметров $(\\omega, A)$ гармонических условий среды, подсвеченных по грубо посчитанному числу различных максимумов $u_s$</figcaption></figure>"
   ]
  },
  {
   "cell_type": "markdown",
   "id": "7664be35-a47b-47cc-965c-3153255bb2b8",
   "metadata": {
    "slideshow": {
     "slide_type": "skip"
    },
    "tags": []
   },
   "source": [
    "Бифуркации? Хаос? Аттракторы?"
   ]
  },
  {
   "cell_type": "markdown",
   "id": "ac4b603b-b60d-4822-97bf-3edde90cf27f",
   "metadata": {
    "slideshow": {
     "slide_type": "slide"
    },
    "tags": []
   },
   "source": [
    "<figure style=\"text-align: center; margin: 0 auto;\"><img src=\"unstable_detonation_mode_locking.png\" style=\"text-align: center; margin: 0 auto; width: 80%;\" />\n",
    "    <figcaption style=\"text-align: center; margin: 0 auto; \">Рис. 6: Неустойчивая детонация с $ \\alpha=4.5 $, $ \\beta=0.1 $, среда перед волной определяется $ A=0.05 $, (a) $ k=0 $, (b) $ k=0.01 $, (c) $ k = 0.1 $</figcaption></figure>"
   ]
  },
  {
   "cell_type": "markdown",
   "id": "2eec8e8b",
   "metadata": {
    "slideshow": {
     "slide_type": "skip"
    },
    "tags": []
   },
   "source": [
    "## Градиентная катастрофа и разрывные решения\n",
    "### Non-oscillatory Problems Require Essentially Non-oscillatory Solutions"
   ]
  },
  {
   "cell_type": "code",
   "execution_count": null,
   "id": "56e3cdca",
   "metadata": {
    "slideshow": {
     "slide_type": "skip"
    },
    "tags": []
   },
   "outputs": [],
   "source": [
    "@nb.njit((nbt.float64[:],\n",
    "          nbt.Array(nbt.int64, 1, 'A', readonly=True),\n",
    "          nbt.i8, nbt.f8, nbt.optional(nbt.f8),\n",
    "          nbt.optional(nbt.f8), nbt.i1,))\n",
    "def weno5_lf(u: npt.NDArray[np.float64],\n",
    "             int_idx: npt.NDArray[np.int64],\n",
    "             ishock: np.int64,\n",
    "             amp: np.float64,\n",
    "             x_lab: Optional[np.float64],\n",
    "             wn: Optional[np.float64],\n",
    "             sign: np.int8) -> npt.NDArray[np.float64]:\n",
    "    \"\"\"FD Weighted essentially non-oscillatory 5-th order method (WENO-5)\n",
    "    to calculate and return the intercell fluxes at right cell edges\n",
    "    using the Lax-Friedrichs (LF) numerical flux splitting function.\n",
    "\n",
    "    int_idx = Nint represents the indices of the internal points.\n",
    "    Return the flux at the right cell edge: flux = F_{j+1/2}\n",
    "    u = [f(j-2) f(j-1) f(j) f(j+1) f(j+2) f(j+3)]'.\n",
    "    Shifted by -1, this flux gives the flux at i = 3+1/2,\n",
    "    which is the first cell boundary ahead of the shock position, i=3.\n",
    "    Stencil (3 substencils): [j-2, j-1, j+0, j+1, j+2, ...] for '+'\n",
    "\t                (or [j+3, j+2, j+1, j+0, j-1, ...]      for '-').\n",
    "                    \"Специальный интерполятор\"\n",
    "    \"\"\"\n",
    "\n",
    "    eps = 1e-40  # meant to avoid divison by zero\n",
    "\n",
    "    u_s = u[ishock]\n",
    "\n",
    "    # Maximum magnitude of the flux derivative F_u = (u - D)\n",
    "    # with respect to the corresponding conserved quantity u\n",
    "    alpha = np.absolute(u - Dshock(u_s, amp, x_lab, wn, sign)).max()\n",
    "    f_minus = 0.5 * (reactive_burgers_flux(u, u_s, amp, x_lab, wn, sign)\n",
    "                     - alpha * u)\n",
    "    f_plus = 0.5 * (reactive_burgers_flux(u, u_s, amp, x_lab, wn, sign)\n",
    "                    + alpha * u)\n",
    "\n",
    "    flux = np.zeros_like(u)\n",
    "\n",
    "    # promised shift by -1\n",
    "    shifted_index_range = range(int_idx[0] - 1, int_idx[-1] + 1)\n",
    "    # at all internal-cell edges, 3:N+3\n",
    "    for j in shifted_index_range:\n",
    "        u_minus = np.array([f_minus[j-2], f_minus[j-1], f_minus[j],\n",
    "                            f_minus[j+1], f_minus[j+2], f_minus[j+3]],\n",
    "                           dtype=np.float64)\n",
    "        u_plus = np.array([f_plus[j-2], f_plus[j-1], f_plus[j],\n",
    "                           f_plus[j+1], f_plus[j+2], f_plus[j+3]],\n",
    "                          dtype=np.float64)\n",
    "\n",
    "        # smoothness indicators of the stensil\n",
    "        # (measure how smooth u is in the stensil)\n",
    "        ISminus = np.array([\n",
    "            np.dot(np.dot(u_minus, kfr.weno_matrices.WmAm0), u_minus),\n",
    "            np.dot(np.dot(u_minus, kfr.weno_matrices.WmAm1), u_minus),\n",
    "            np.dot(np.dot(u_minus, kfr.weno_matrices.WmAm2), u_minus)\n",
    "        ])\n",
    "\n",
    "        ISplus = np.array([\n",
    "            np.dot(np.dot(u_plus, kfr.weno_matrices.WmAp0), u_plus),\n",
    "            np.dot(np.dot(u_plus, kfr.weno_matrices.WmAp1), u_plus),\n",
    "            np.dot(np.dot(u_plus, kfr.weno_matrices.WmAp2), u_plus)\n",
    "        ])\n",
    "\n",
    "        # the weights (with d_lin_weights being\n",
    "        # the linear weights yielding (2*3-1)=5th order accuracy)\n",
    "        d_lin_weights = 0.1 * np.array([1, 6, 3], dtype=np.float64)\n",
    "        alphaplus = d_lin_weights / (eps + ISplus) ** 2.\n",
    "        alphaminus = d_lin_weights / (eps + ISminus) ** 2.\n",
    "\n",
    "        omegaplus = alphaplus / alphaplus.sum()\n",
    "        omegaminus = alphaminus / alphaminus.sum()\n",
    "\n",
    "        fhatplus = np.dot(omegaplus,\n",
    "                          np.dot(kfr.weno_matrices.WmNplus, u_plus))\n",
    "        fhatminus = np.dot(omegaminus,\n",
    "                           np.dot(kfr.weno_matrices.WmNminus, u_minus))\n",
    "\n",
    "        flux[j] = fhatplus + fhatminus\n",
    "\n",
    "    return flux"
   ]
  },
  {
   "cell_type": "markdown",
   "id": "38dfff58-945f-48bb-ab3f-9300478d49df",
   "metadata": {
    "slideshow": {
     "slide_type": "slide"
    },
    "tags": []
   },
   "source": [
    "## О MOL-FD-WENO-схемах реконструкции потока с его разбиением"
   ]
  },
  {
   "cell_type": "markdown",
   "id": "e01cabac-1713-4814-a39f-0f900f0e7650",
   "metadata": {},
   "source": [
    "<p style=\"text-align: justify;\">\"Несмотря на обширную литературу по данному направлению, вопрос расширения порядка аппроксимации схем и выбора нелинейных весов для сохранения высокого порядка аппроксимации на немонотонных участках решений является открытым.\"<p>\n",
    "\n",
    "-Н. М. Евстигнеев, 2016\n",
    "\n",
    "Также мало изучен вопрос условия Куранта и совместной сходимости WENO5 с разными методами интегрирования по времени. Этим вопросом часто пренебрегают.\n",
    "\n"
   ]
  },
  {
   "cell_type": "markdown",
   "id": "3394c041-4f48-4280-90a7-8387faaf1cba",
   "metadata": {
    "slideshow": {
     "slide_type": "subslide"
    },
    "tags": []
   },
   "source": [
    "<figure style=\"text-align: center;\"><img style=\"text-align: center; margin: 0 auto;\" src=\"weno5.png\" alt=\"WENO5 schematic analysis\"/>\n",
    "    <figcaption style=\"text-align: center; margin: 0 auto; \">Рис. 6: Схема WENO5 метода реконструкции (см. <span style=\"font-style: italic;\">Хонг и др., 2020</span>)</figcaption>\n",
    "</figure>"
   ]
  },
  {
   "cell_type": "markdown",
   "id": "09d59e76-a659-44c9-b808-62521394fc92",
   "metadata": {
    "slideshow": {
     "slide_type": "subslide"
    },
    "tags": []
   },
   "source": [
    "Идея конечно-разностной WENO-реконструкции состоит в подборе интерполяционного полинома высокого порядка, аппроксимирующего функцию *численного потока* $h$, такую, что в ячейке\n",
    "$$ \\left.\\frac{df}{dx}\\right|_{x=x_j} = \\frac{h_{j+1/2} - h_{j-1/2}}{\\Delta x}. $$\n",
    "Таким образом, h определяется из уравнения\n",
    "$$ f(x) = \\intop_{x-\\Delta x/2}^{x+\\Delta x/2}h\\left( \\xi \\right) d\\xi. $$\n",
    "Отсюда легко видеть, что \n",
    "$$ \\left.\\frac{du}{dt}\\right|_{x=x_j} = - \\frac{h_{j+1/2} - h_{j-1/2}}{\\Delta x}. $$\n",
    "\n",
    "Итак, $ \\hat{f} \\approx h $ и\n",
    "$$ \\left.\\frac{du}{dt}\\right|_{x=x_j} \\approx - \\frac{\\hat{f}_{j+1/2} - \\hat{f}_{j-1/2}}{\\Delta x}. $$"
   ]
  },
  {
   "cell_type": "markdown",
   "id": "7d72f1f7-3c60-41fa-b93c-9ba8ee64d6e3",
   "metadata": {
    "slideshow": {
     "slide_type": "slide"
    },
    "tags": []
   },
   "source": [
    "$$ \\hat{f}_{j+1/2}=\\begin{cases}\n",
    "\\mathscr{F}\\left[f_{j-(r-1)},\\dots,f_{j-1},f_{j},f_{j+1},\\dots,f_{j+(r-1)}\\right] & \\text{для }\\rightarrow\\text{ волн}\\\\\n",
    "\\mathscr{F}\\left[f_{j+(r-1)+1},\\dots,f_{j+2},f_{j+1},f_{j},\\dots,f_{j-(r-1)+1}\\right] & \\text{для }\\leftarrow\\text{ волн}.\n",
    "\\end{cases}$$\n",
    "\n",
    "$$ \\mathscr{F}\\left[f_{j-(r-1)},\\dots,f_{j+(r-1)}\\right] = \\sum_{k=0}^{r-1} \\omega_k \\cdot \\hat{f}_k $$\n",
    "\n",
    "$$ \\omega_n = \\frac{\\alpha_n}{\\sum_k\\alpha_k}, \\text{ где } \\alpha_n = \\frac{\\bar{\\omega}^{\\text{lin. ideal}}_n}{\\left(\\varepsilon + \\beta_k\\right)^p} $$\n",
    "$$ \\beta_m \\stackrel{\\text{def}}{:=} \\sum_{k=0}^{r-1} \\Delta x^{2k-1}\\intop_{x_{j-1/2}}^{x_{j+1/2}} \\left(\\frac{d^k \\hat{f}_k}{dx^k}\\right)^2 dx $$"
   ]
  },
  {
   "cell_type": "markdown",
   "id": "c895b953-88ca-495a-ba53-692967bd73fd",
   "metadata": {
    "slideshow": {
     "slide_type": "slide"
    },
    "tags": []
   },
   "source": [
    "## WENO-M\n",
    "\n",
    "$$ g_{\\text{HAP}}\\colon\\omega\\mapsto\\frac{\\omega\\left(\\bar{\\omega}_{k}^{\\text{lin. ideal}}+\\left(\\bar{\\omega}_{k}^{\\text{lin. ideal}}\\right)^{2}-3.\\bar{\\omega}_{k}^{\\text{lin. ideal}}\\cdot\\omega+\\omega^{2}\\right)}{\\left(\\bar{\\omega}_{k}^{\\text{lin. ideal}}\\right)^{2}+\\omega\\left(1.-2.\\bar{\\omega}_{k}^{\\text{lin. ideal}}\\right)},\\qquad\\substack{k=\\overline{0,\\left(r-1\\right)}\\\\\n",
    "\\bar{\\omega}_{k}^{\\text{lin. ideal}}\\in\\left(0\\mathop{..}1\\right)\n",
    "} $$\n",
    "\n",
    "$$ g_{\\text{HAP}}\\colon\\omega\\mapsto\\left(\\bar{\\omega}_{k}^{\\text{lin. ideal}}+\\frac{\\left(\\omega-\\bar{\\omega}_{k}^{\\text{lin. ideal}}\\right)^{3}}{\\left(\\omega-\\bar{\\omega}_{k}^{\\text{lin. ideal}}\\right)^{2}+\\omega\\cdot\\left(1.-\\omega\\right)}\\right),\\qquad\\substack{k=\\overline{0,\\left(r-1\\right)}\\\\\n",
    "\\bar{\\omega}_{k}^{\\text{lin. ideal}}\\in\\left(0\\mathop{..}1\\right)\n",
    "}\n",
    "$$"
   ]
  },
  {
   "cell_type": "markdown",
   "id": "5a6d9fac-7a9d-4e4e-9fa8-3e5e57af3cc9",
   "metadata": {
    "slideshow": {
     "slide_type": "slide"
    },
    "tags": []
   },
   "source": [
    "## WENO-FM"
   ]
  },
  {
   "cell_type": "markdown",
   "id": "1c1f3925-bc6e-48b7-be6e-2fa11a9cad54",
   "metadata": {},
   "source": [
    "$$ \\lambda_j \\stackrel{\\text{def}}{:=} \\frac{1/\\left(\\beta_j+\\epsilon\\right)^p}{\\sum_k\\left(\\beta_k+\\epsilon\\right)^p} $$\n",
    "\n",
    "\n",
    "$$ g_{\\text{FM}}\\colon\\lambda\\mapsto\\frac{\\lambda\\left(\\bar{\\lambda}+\\left(\\bar{\\lambda}\\right)^{2}-3.\\bar{\\lambda}\\cdot\\lambda+\\lambda^{2}\\right)}{\\left(\\bar{\\lambda}\\right)^{2}+\\lambda\\left(1.-2.\\bar{\\lambda}\\right)},\\qquad \\bar{\\lambda}\\stackrel{\\text{def}}{:=}\\frac{1}{r}\\in\\left(0\\mathop{..}1\\right) $$"
   ]
  },
  {
   "cell_type": "markdown",
   "id": "17b4a3ae-2026-4e4d-a7c5-3dfc212c5ca9",
   "metadata": {
    "slideshow": {
     "slide_type": "slide"
    },
    "tags": []
   },
   "source": [
    "## WENO-S\n",
    "*Ву и др., 2021*\n",
    "$$ \\delta_S \\left[f\\right] = x \\mapsto \\left(f\\left(x+h/2\\right)-f\\left(x-h/2\\right)\\right) $$\n",
    "$$ \\sigma_S \\left[f\\right] = x \\mapsto \\left(f\\left(x+h/2\\right)+f\\left(x-h/2\\right)\\right) $$\n",
    "$$ a = \\left.\\left[\\sigma_S^2 \\delta_S^{r-3} f\\right]\\right|_{x=x_c}, \\quad\n",
    "    b = \\left.\\left[\\sigma_S \\delta_S^{r-2} f\\right]\\right|_{x=x_c}, \\quad\n",
    "    c = \\left.\\left[\\delta_S^{r-1} f\\right]\\right|_{x=x_c} $$\n",
    "$$ \\beta_S\\left[f\\right] = b^2 + \\left|ac\\right| $$\n",
    "$$ \\left(\\alpha_S\\right) = \\bar{\\omega}^{\\text{lin. ideal}} \\left( 1 + \\left(\\frac{\\tau_{2r-1(S)}}{\\beta^S+\\varepsilon}\\right) \\right) $$\n",
    "$$ \\tau_{2r-1(S)} = \\beta_S \\left[\\delta^{r-1}f\\right] \\text{ в }x_c=x_j $$\n",
    "$$ a, b, c = \\sum_{подшаблон} \\gamma_{r,l} f_k $$\n",
    "<figure style=\"text-align: center; margin: 0 auto;\"><img style=\"text-align: center; margin: 0 auto;\" src=\"weno_s.png\" />\n",
    "    <figcaption style=\"text-align: center; margin: 0 auto;\">Рис. 7: Коэффициенты $\\gamma_{r,l}$ для WENO11-S</figcaption></figure>"
   ]
  },
  {
   "cell_type": "markdown",
   "id": "b8384b76",
   "metadata": {
    "slideshow": {
     "slide_type": "slide"
    },
    "tags": []
   },
   "source": [
    "<div style=\"text-align: center;\">\n",
    "    <h1> Спасибо за внимание! </h1>\n",
    "    <h2> Ответы на вопросы </h2>\n",
    "</div>\n",
    "<div style=\"text-align: center;\"><img src=\"tumbleweed.jpg\"></div>\n",
    "\n",
    " ### Контакты\n",
    " \n",
    "* E-mail: fedor1113-public@yandex.com\n",
    "* Element (бывший Riot.im): fedor1113\n",
    "* Я также есть на *ResearchGate*."
   ]
  }
 ],
 "metadata": {
  "kernelspec": {
   "display_name": "Python 3",
   "language": "python",
   "name": "python3"
  },
  "language_info": {
   "codemirror_mode": {
    "name": "ipython",
    "version": 3
   },
   "file_extension": ".py",
   "mimetype": "text/x-python",
   "name": "python",
   "nbconvert_exporter": "python",
   "pygments_lexer": "ipython3",
   "version": "3.10.6"
  },
  "widgets": {
   "application/vnd.jupyter.widget-state+json": {
    "state": {},
    "version_major": 2,
    "version_minor": 0
   }
  }
 },
 "nbformat": 4,
 "nbformat_minor": 5
}
